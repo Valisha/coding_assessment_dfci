{
 "cells": [
  {
   "cell_type": "code",
   "execution_count": 1,
   "id": "00d6abff-6d85-4574-9020-0dac9d56c2c5",
   "metadata": {},
   "outputs": [],
   "source": [
    "import os"
   ]
  },
  {
   "cell_type": "code",
   "execution_count": 3,
   "id": "bf7076fa-790a-4a36-accd-8b3072e1fb83",
   "metadata": {},
   "outputs": [],
   "source": [
    "def count_long_sequences(file_path):\n",
    "    long_sequences = 0\n",
    "    total_sequences = 0\n",
    "    with open(file_path, \"r\") as file:\n",
    "        line_number = 0\n",
    "        for line in file:\n",
    "            line_number += 1\n",
    "            if line_number % 4 == 2: # Check for only sequence lines\n",
    "                sequence = line.strip()\n",
    "                if len(sequence) > 30:\n",
    "                    long_sequences += 1\n",
    "                total_sequences += 1\n",
    "    if total_sequences == 0:\n",
    "        return 0\n",
    "    else:\n",
    "        return (long_sequences/total_sequences) * 100\n",
    "\n",
    "\n",
    "\n"
   ]
  },
  {
   "cell_type": "code",
   "execution_count": 4,
   "id": "6565af9e-0b57-4e0f-8c2c-db67bdae48ee",
   "metadata": {},
   "outputs": [],
   "source": [
    "\n",
    "def find_fastq_files(directory):\n",
    "    fastq_files = []\n",
    "    for root, dirs, files in os.walk(directory):\n",
    "        for file in files:\n",
    "            if file.endswith(\".fastq\"):\n",
    "                fastq_files.append(os.path.join(root, file))\n",
    "    return fastq_files\n",
    "\n",
    "\n",
    "    "
   ]
  },
  {
   "cell_type": "code",
   "execution_count": 5,
   "id": "7db39c7b-d090-40ab-b140-1ce87576e8f2",
   "metadata": {},
   "outputs": [
    {
     "name": "stdout",
     "output_type": "stream",
     "text": [
      "File: /Users/valishashah/Desktop/coding_test/sample_files/fastq/read2/Sample_R2.fastq, Percent long sequences: 83.60%\n",
      "File: /Users/valishashah/Desktop/coding_test/sample_files/fastq/read1/Sample_R1.fastq, Percent long sequences: 80.64%\n"
     ]
    }
   ],
   "source": [
    "def main():\n",
    "    # directory = input(\"Enter the directory path to search for FASTQ files: \")\n",
    "    fastq_files = find_fastq_files(\"/Users/valishashah/Desktop/coding_test/sample_files/fastq\")\n",
    "    for file_path in fastq_files:\n",
    "        percent_long_sequences = count_long_sequences(file_path)\n",
    "        print(f\"File: {file_path}, Percent long sequences: {percent_long_sequences:.2f}%\")\n",
    "\n",
    "if __name__ == \"__main__\":\n",
    "    main()"
   ]
  },
  {
   "cell_type": "code",
   "execution_count": null,
   "id": "2a27cc99-912e-4fa3-856c-c66a4f33f6e0",
   "metadata": {},
   "outputs": [],
   "source": []
  }
 ],
 "metadata": {
  "kernelspec": {
   "display_name": "Python 3 (ipykernel)",
   "language": "python",
   "name": "python3"
  },
  "language_info": {
   "codemirror_mode": {
    "name": "ipython",
    "version": 3
   },
   "file_extension": ".py",
   "mimetype": "text/x-python",
   "name": "python",
   "nbconvert_exporter": "python",
   "pygments_lexer": "ipython3",
   "version": "3.11.7"
  }
 },
 "nbformat": 4,
 "nbformat_minor": 5
}
